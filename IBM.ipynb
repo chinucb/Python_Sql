{
 "cells": [
  {
   "cell_type": "code",
   "execution_count": 29,
   "id": "d8153d5c-ee38-43c1-8b24-768a967866c8",
   "metadata": {},
   "outputs": [],
   "source": [
    "import pandas as pd"
   ]
  },
  {
   "cell_type": "code",
   "execution_count": 30,
   "id": "5b6f123d-d21f-430a-9d37-d7b893147a5d",
   "metadata": {},
   "outputs": [
    {
     "data": {
      "text/plain": [
       "Customer                         0\n",
       "State                            0\n",
       "Customer Lifetime Value          0\n",
       "Response                         0\n",
       "Coverage                         0\n",
       "Education                        0\n",
       "Effective To Date                0\n",
       "EmploymentStatus                 0\n",
       "Gender                           0\n",
       "Income                           0\n",
       "Location Code                    0\n",
       "Marital Status                   0\n",
       "Monthly Premium Auto             0\n",
       "Months Since Last Claim          0\n",
       "Months Since Policy Inception    0\n",
       "Number of Open Complaints        0\n",
       "Number of Policies               0\n",
       "Policy Type                      0\n",
       "Policy                           0\n",
       "Renew Offer Type                 0\n",
       "Sales Channel                    0\n",
       "Total Claim Amount               0\n",
       "Vehicle Class                    0\n",
       "Vehicle Size                     0\n",
       "dtype: int64"
      ]
     },
     "execution_count": 30,
     "metadata": {},
     "output_type": "execute_result"
    }
   ],
   "source": [
    "IBM=pd.read_csv('IBM.csv')\n",
    "IBM.isnull().sum()\n"
   ]
  },
  {
   "cell_type": "code",
   "execution_count": 31,
   "id": "b92d6263-16e5-43d3-8ff5-0ec04fab4e05",
   "metadata": {},
   "outputs": [
    {
     "name": "stdout",
     "output_type": "stream",
     "text": [
      "<class 'pandas.core.frame.DataFrame'>\n",
      "RangeIndex: 9134 entries, 0 to 9133\n",
      "Data columns (total 24 columns):\n",
      " #   Column                         Non-Null Count  Dtype  \n",
      "---  ------                         --------------  -----  \n",
      " 0   Customer                       9134 non-null   object \n",
      " 1   State                          9134 non-null   object \n",
      " 2   Customer Lifetime Value        9134 non-null   float64\n",
      " 3   Response                       9134 non-null   object \n",
      " 4   Coverage                       9134 non-null   object \n",
      " 5   Education                      9134 non-null   object \n",
      " 6   Effective To Date              9134 non-null   object \n",
      " 7   EmploymentStatus               9134 non-null   object \n",
      " 8   Gender                         9134 non-null   object \n",
      " 9   Income                         9134 non-null   int64  \n",
      " 10  Location Code                  9134 non-null   object \n",
      " 11  Marital Status                 9134 non-null   object \n",
      " 12  Monthly Premium Auto           9134 non-null   int64  \n",
      " 13  Months Since Last Claim        9134 non-null   int64  \n",
      " 14  Months Since Policy Inception  9134 non-null   int64  \n",
      " 15  Number of Open Complaints      9134 non-null   int64  \n",
      " 16  Number of Policies             9134 non-null   int64  \n",
      " 17  Policy Type                    9134 non-null   object \n",
      " 18  Policy                         9134 non-null   object \n",
      " 19  Renew Offer Type               9134 non-null   object \n",
      " 20  Sales Channel                  9134 non-null   object \n",
      " 21  Total Claim Amount             9134 non-null   float64\n",
      " 22  Vehicle Class                  9134 non-null   object \n",
      " 23  Vehicle Size                   9134 non-null   object \n",
      "dtypes: float64(2), int64(6), object(16)\n",
      "memory usage: 1.7+ MB\n"
     ]
    }
   ],
   "source": [
    "IBM.info()"
   ]
  },
  {
   "cell_type": "code",
   "execution_count": 32,
   "id": "500e2f83-0f6a-4011-9ac7-307fa09ffa9b",
   "metadata": {},
   "outputs": [
    {
     "data": {
      "text/plain": [
       "9134"
      ]
     },
     "execution_count": 32,
     "metadata": {},
     "output_type": "execute_result"
    }
   ],
   "source": [
    "from sqlalchemy import create_engine\n",
    "engine = create_engine('sqlite://', echo=False)\n",
    "IBM.to_sql(\"IBM\", con =engine)"
   ]
  },
  {
   "cell_type": "code",
   "execution_count": 33,
   "id": "099c2529-2848-4184-bc41-cc5aaaaece70",
   "metadata": {},
   "outputs": [
    {
     "data": {
      "text/html": [
       "<div>\n",
       "<style scoped>\n",
       "    .dataframe tbody tr th:only-of-type {\n",
       "        vertical-align: middle;\n",
       "    }\n",
       "\n",
       "    .dataframe tbody tr th {\n",
       "        vertical-align: top;\n",
       "    }\n",
       "\n",
       "    .dataframe thead th {\n",
       "        text-align: right;\n",
       "    }\n",
       "</style>\n",
       "<table border=\"1\" class=\"dataframe\">\n",
       "  <thead>\n",
       "    <tr style=\"text-align: right;\">\n",
       "      <th></th>\n",
       "      <th>index</th>\n",
       "      <th>Customer</th>\n",
       "      <th>State</th>\n",
       "      <th>Customer Lifetime Value</th>\n",
       "      <th>Response</th>\n",
       "      <th>Coverage</th>\n",
       "      <th>Education</th>\n",
       "      <th>Effective To Date</th>\n",
       "      <th>EmploymentStatus</th>\n",
       "      <th>Gender</th>\n",
       "      <th>...</th>\n",
       "      <th>Months Since Policy Inception</th>\n",
       "      <th>Number of Open Complaints</th>\n",
       "      <th>Number of Policies</th>\n",
       "      <th>Policy Type</th>\n",
       "      <th>Policy</th>\n",
       "      <th>Renew Offer Type</th>\n",
       "      <th>Sales Channel</th>\n",
       "      <th>Total Claim Amount</th>\n",
       "      <th>Vehicle Class</th>\n",
       "      <th>Vehicle Size</th>\n",
       "    </tr>\n",
       "  </thead>\n",
       "  <tbody>\n",
       "    <tr>\n",
       "      <th>0</th>\n",
       "      <td>0</td>\n",
       "      <td>BU79786</td>\n",
       "      <td>Washington</td>\n",
       "      <td>2763.519279</td>\n",
       "      <td>No</td>\n",
       "      <td>Basic</td>\n",
       "      <td>Bachelor</td>\n",
       "      <td>2/24/11</td>\n",
       "      <td>Employed</td>\n",
       "      <td>F</td>\n",
       "      <td>...</td>\n",
       "      <td>5</td>\n",
       "      <td>0</td>\n",
       "      <td>1</td>\n",
       "      <td>Corporate Auto</td>\n",
       "      <td>Corporate L3</td>\n",
       "      <td>Offer1</td>\n",
       "      <td>Agent</td>\n",
       "      <td>384.811147</td>\n",
       "      <td>Two-Door Car</td>\n",
       "      <td>Medsize</td>\n",
       "    </tr>\n",
       "    <tr>\n",
       "      <th>1</th>\n",
       "      <td>1</td>\n",
       "      <td>QZ44356</td>\n",
       "      <td>Arizona</td>\n",
       "      <td>6979.535903</td>\n",
       "      <td>No</td>\n",
       "      <td>Extended</td>\n",
       "      <td>Bachelor</td>\n",
       "      <td>1/31/11</td>\n",
       "      <td>Unemployed</td>\n",
       "      <td>F</td>\n",
       "      <td>...</td>\n",
       "      <td>42</td>\n",
       "      <td>0</td>\n",
       "      <td>8</td>\n",
       "      <td>Personal Auto</td>\n",
       "      <td>Personal L3</td>\n",
       "      <td>Offer3</td>\n",
       "      <td>Agent</td>\n",
       "      <td>1131.464935</td>\n",
       "      <td>Four-Door Car</td>\n",
       "      <td>Medsize</td>\n",
       "    </tr>\n",
       "    <tr>\n",
       "      <th>2</th>\n",
       "      <td>2</td>\n",
       "      <td>AI49188</td>\n",
       "      <td>Nevada</td>\n",
       "      <td>12887.431650</td>\n",
       "      <td>No</td>\n",
       "      <td>Premium</td>\n",
       "      <td>Bachelor</td>\n",
       "      <td>2/19/11</td>\n",
       "      <td>Employed</td>\n",
       "      <td>F</td>\n",
       "      <td>...</td>\n",
       "      <td>38</td>\n",
       "      <td>0</td>\n",
       "      <td>2</td>\n",
       "      <td>Personal Auto</td>\n",
       "      <td>Personal L3</td>\n",
       "      <td>Offer1</td>\n",
       "      <td>Agent</td>\n",
       "      <td>566.472247</td>\n",
       "      <td>Two-Door Car</td>\n",
       "      <td>Medsize</td>\n",
       "    </tr>\n",
       "    <tr>\n",
       "      <th>3</th>\n",
       "      <td>3</td>\n",
       "      <td>WW63253</td>\n",
       "      <td>California</td>\n",
       "      <td>7645.861827</td>\n",
       "      <td>No</td>\n",
       "      <td>Basic</td>\n",
       "      <td>Bachelor</td>\n",
       "      <td>1/20/11</td>\n",
       "      <td>Unemployed</td>\n",
       "      <td>M</td>\n",
       "      <td>...</td>\n",
       "      <td>65</td>\n",
       "      <td>0</td>\n",
       "      <td>7</td>\n",
       "      <td>Corporate Auto</td>\n",
       "      <td>Corporate L2</td>\n",
       "      <td>Offer1</td>\n",
       "      <td>Call Center</td>\n",
       "      <td>529.881344</td>\n",
       "      <td>SUV</td>\n",
       "      <td>Medsize</td>\n",
       "    </tr>\n",
       "    <tr>\n",
       "      <th>4</th>\n",
       "      <td>4</td>\n",
       "      <td>HB64268</td>\n",
       "      <td>Washington</td>\n",
       "      <td>2813.692575</td>\n",
       "      <td>No</td>\n",
       "      <td>Basic</td>\n",
       "      <td>Bachelor</td>\n",
       "      <td>2/3/11</td>\n",
       "      <td>Employed</td>\n",
       "      <td>M</td>\n",
       "      <td>...</td>\n",
       "      <td>44</td>\n",
       "      <td>0</td>\n",
       "      <td>1</td>\n",
       "      <td>Personal Auto</td>\n",
       "      <td>Personal L1</td>\n",
       "      <td>Offer1</td>\n",
       "      <td>Agent</td>\n",
       "      <td>138.130879</td>\n",
       "      <td>Four-Door Car</td>\n",
       "      <td>Medsize</td>\n",
       "    </tr>\n",
       "  </tbody>\n",
       "</table>\n",
       "<p>5 rows × 25 columns</p>\n",
       "</div>"
      ],
      "text/plain": [
       "   index Customer       State  Customer Lifetime Value Response  Coverage  \\\n",
       "0      0  BU79786  Washington              2763.519279       No     Basic   \n",
       "1      1  QZ44356     Arizona              6979.535903       No  Extended   \n",
       "2      2  AI49188      Nevada             12887.431650       No   Premium   \n",
       "3      3  WW63253  California              7645.861827       No     Basic   \n",
       "4      4  HB64268  Washington              2813.692575       No     Basic   \n",
       "\n",
       "  Education Effective To Date EmploymentStatus Gender  ...  \\\n",
       "0  Bachelor           2/24/11         Employed      F  ...   \n",
       "1  Bachelor           1/31/11       Unemployed      F  ...   \n",
       "2  Bachelor           2/19/11         Employed      F  ...   \n",
       "3  Bachelor           1/20/11       Unemployed      M  ...   \n",
       "4  Bachelor            2/3/11         Employed      M  ...   \n",
       "\n",
       "   Months Since Policy Inception Number of Open Complaints Number of Policies  \\\n",
       "0                              5                         0                  1   \n",
       "1                             42                         0                  8   \n",
       "2                             38                         0                  2   \n",
       "3                             65                         0                  7   \n",
       "4                             44                         0                  1   \n",
       "\n",
       "      Policy Type        Policy  Renew Offer Type  Sales Channel  \\\n",
       "0  Corporate Auto  Corporate L3            Offer1          Agent   \n",
       "1   Personal Auto   Personal L3            Offer3          Agent   \n",
       "2   Personal Auto   Personal L3            Offer1          Agent   \n",
       "3  Corporate Auto  Corporate L2            Offer1    Call Center   \n",
       "4   Personal Auto   Personal L1            Offer1          Agent   \n",
       "\n",
       "   Total Claim Amount  Vehicle Class Vehicle Size  \n",
       "0          384.811147   Two-Door Car      Medsize  \n",
       "1         1131.464935  Four-Door Car      Medsize  \n",
       "2          566.472247   Two-Door Car      Medsize  \n",
       "3          529.881344            SUV      Medsize  \n",
       "4          138.130879  Four-Door Car      Medsize  \n",
       "\n",
       "[5 rows x 25 columns]"
      ]
     },
     "execution_count": 33,
     "metadata": {},
     "output_type": "execute_result"
    }
   ],
   "source": [
    "sql='''\n",
    "\n",
    "Select * from IBM\n",
    "\n",
    "\n",
    "''';\n",
    "\n",
    "    \n",
    "IBM_sql = pd.read_sql_query(sql,con=engine)\n",
    "IBM_sql.head()"
   ]
  },
  {
   "cell_type": "markdown",
   "id": "78da0259-2a5c-4620-a084-9cfece79eda6",
   "metadata": {},
   "source": [
    "# Q.1 Count the total number of customers in the dataset:?"
   ]
  },
  {
   "cell_type": "code",
   "execution_count": 8,
   "id": "7711dd44-aa14-41a5-a133-5cbfb7b4ea2b",
   "metadata": {},
   "outputs": [
    {
     "data": {
      "text/html": [
       "<div>\n",
       "<style scoped>\n",
       "    .dataframe tbody tr th:only-of-type {\n",
       "        vertical-align: middle;\n",
       "    }\n",
       "\n",
       "    .dataframe tbody tr th {\n",
       "        vertical-align: top;\n",
       "    }\n",
       "\n",
       "    .dataframe thead th {\n",
       "        text-align: right;\n",
       "    }\n",
       "</style>\n",
       "<table border=\"1\" class=\"dataframe\">\n",
       "  <thead>\n",
       "    <tr style=\"text-align: right;\">\n",
       "      <th></th>\n",
       "      <th>total_customers</th>\n",
       "    </tr>\n",
       "  </thead>\n",
       "  <tbody>\n",
       "    <tr>\n",
       "      <th>0</th>\n",
       "      <td>9134</td>\n",
       "    </tr>\n",
       "  </tbody>\n",
       "</table>\n",
       "</div>"
      ],
      "text/plain": [
       "   total_customers\n",
       "0             9134"
      ]
     },
     "execution_count": 8,
     "metadata": {},
     "output_type": "execute_result"
    }
   ],
   "source": [
    "sql='''\n",
    "SELECT COUNT(*) AS total_customers FROM IBM;\n",
    "\n",
    "''';\n",
    "\n",
    "    \n",
    "IBM_sql = pd.read_sql_query(sql,con=engine)\n",
    "IBM_sql"
   ]
  },
  {
   "cell_type": "markdown",
   "id": "96e8a23c-8e94-4d1a-afbf-4289e2808d85",
   "metadata": {},
   "source": [
    "# Q.2 Find the average customer lifetime value (CLV)?"
   ]
  },
  {
   "cell_type": "code",
   "execution_count": 9,
   "id": "1b13655e-380f-4074-b18e-ed5ec2e7faa5",
   "metadata": {},
   "outputs": [
    {
     "data": {
      "text/html": [
       "<div>\n",
       "<style scoped>\n",
       "    .dataframe tbody tr th:only-of-type {\n",
       "        vertical-align: middle;\n",
       "    }\n",
       "\n",
       "    .dataframe tbody tr th {\n",
       "        vertical-align: top;\n",
       "    }\n",
       "\n",
       "    .dataframe thead th {\n",
       "        text-align: right;\n",
       "    }\n",
       "</style>\n",
       "<table border=\"1\" class=\"dataframe\">\n",
       "  <thead>\n",
       "    <tr style=\"text-align: right;\">\n",
       "      <th></th>\n",
       "      <th>avg_clv</th>\n",
       "    </tr>\n",
       "  </thead>\n",
       "  <tbody>\n",
       "    <tr>\n",
       "      <th>0</th>\n",
       "      <td>8004.940475</td>\n",
       "    </tr>\n",
       "  </tbody>\n",
       "</table>\n",
       "</div>"
      ],
      "text/plain": [
       "       avg_clv\n",
       "0  8004.940475"
      ]
     },
     "execution_count": 9,
     "metadata": {},
     "output_type": "execute_result"
    }
   ],
   "source": [
    "sql='''\n",
    "SELECT AVG(`Customer Lifetime Value`) AS avg_clv FROM IBM;\n",
    "\n",
    "\n",
    "''';\n",
    "\n",
    "    \n",
    "IBM_sql = pd.read_sql_query(sql,con=engine)\n",
    "IBM_sql"
   ]
  },
  {
   "cell_type": "markdown",
   "id": "1693c636-e592-4ec3-a559-ca823334fe61",
   "metadata": {},
   "source": [
    "# Q.3 Retrieve the unique states present in the dataset?"
   ]
  },
  {
   "cell_type": "code",
   "execution_count": 11,
   "id": "dd8de1f4-86de-4933-8313-995eb36d184e",
   "metadata": {},
   "outputs": [
    {
     "data": {
      "text/html": [
       "<div>\n",
       "<style scoped>\n",
       "    .dataframe tbody tr th:only-of-type {\n",
       "        vertical-align: middle;\n",
       "    }\n",
       "\n",
       "    .dataframe tbody tr th {\n",
       "        vertical-align: top;\n",
       "    }\n",
       "\n",
       "    .dataframe thead th {\n",
       "        text-align: right;\n",
       "    }\n",
       "</style>\n",
       "<table border=\"1\" class=\"dataframe\">\n",
       "  <thead>\n",
       "    <tr style=\"text-align: right;\">\n",
       "      <th></th>\n",
       "      <th>State</th>\n",
       "    </tr>\n",
       "  </thead>\n",
       "  <tbody>\n",
       "    <tr>\n",
       "      <th>0</th>\n",
       "      <td>Washington</td>\n",
       "    </tr>\n",
       "    <tr>\n",
       "      <th>1</th>\n",
       "      <td>Arizona</td>\n",
       "    </tr>\n",
       "    <tr>\n",
       "      <th>2</th>\n",
       "      <td>Nevada</td>\n",
       "    </tr>\n",
       "    <tr>\n",
       "      <th>3</th>\n",
       "      <td>California</td>\n",
       "    </tr>\n",
       "    <tr>\n",
       "      <th>4</th>\n",
       "      <td>Oregon</td>\n",
       "    </tr>\n",
       "  </tbody>\n",
       "</table>\n",
       "</div>"
      ],
      "text/plain": [
       "        State\n",
       "0  Washington\n",
       "1     Arizona\n",
       "2      Nevada\n",
       "3  California\n",
       "4      Oregon"
      ]
     },
     "execution_count": 11,
     "metadata": {},
     "output_type": "execute_result"
    }
   ],
   "source": [
    "sql='''\n",
    "SELECT DISTINCT State FROM IBM;\n",
    "\n",
    "\n",
    "''';\n",
    "\n",
    "    \n",
    "IBM_sql = pd.read_sql_query(sql,con=engine)\n",
    "IBM_sql"
   ]
  },
  {
   "cell_type": "markdown",
   "id": "5f6e5bd9-39e0-44b1-ba6f-df6fdb6fd64c",
   "metadata": {},
   "source": [
    "# Q.4 Calculate the total income of all customers"
   ]
  },
  {
   "cell_type": "code",
   "execution_count": 12,
   "id": "97e5f0ba-6a1c-4f74-9a86-2ee6c710e75c",
   "metadata": {},
   "outputs": [
    {
     "data": {
      "text/html": [
       "<div>\n",
       "<style scoped>\n",
       "    .dataframe tbody tr th:only-of-type {\n",
       "        vertical-align: middle;\n",
       "    }\n",
       "\n",
       "    .dataframe tbody tr th {\n",
       "        vertical-align: top;\n",
       "    }\n",
       "\n",
       "    .dataframe thead th {\n",
       "        text-align: right;\n",
       "    }\n",
       "</style>\n",
       "<table border=\"1\" class=\"dataframe\">\n",
       "  <thead>\n",
       "    <tr style=\"text-align: right;\">\n",
       "      <th></th>\n",
       "      <th>total_income</th>\n",
       "    </tr>\n",
       "  </thead>\n",
       "  <tbody>\n",
       "    <tr>\n",
       "      <th>0</th>\n",
       "      <td>343962509</td>\n",
       "    </tr>\n",
       "  </tbody>\n",
       "</table>\n",
       "</div>"
      ],
      "text/plain": [
       "   total_income\n",
       "0     343962509"
      ]
     },
     "execution_count": 12,
     "metadata": {},
     "output_type": "execute_result"
    }
   ],
   "source": [
    "sql='''\n",
    "SELECT SUM(Income) AS total_income FROM IBM;\n",
    "\n",
    "\n",
    "\n",
    "''';\n",
    "\n",
    "    \n",
    "IBM_sql = pd.read_sql_query(sql,con=engine)\n",
    "IBM_sql"
   ]
  },
  {
   "cell_type": "markdown",
   "id": "580f223a-ec3b-4946-82ed-034b3028f79e",
   "metadata": {},
   "source": [
    "# Q.5 Find the highest income among male customers?"
   ]
  },
  {
   "cell_type": "code",
   "execution_count": 13,
   "id": "9dc6cc81-03f2-4a5f-8bd1-10dd2c85a024",
   "metadata": {},
   "outputs": [
    {
     "data": {
      "text/html": [
       "<div>\n",
       "<style scoped>\n",
       "    .dataframe tbody tr th:only-of-type {\n",
       "        vertical-align: middle;\n",
       "    }\n",
       "\n",
       "    .dataframe tbody tr th {\n",
       "        vertical-align: top;\n",
       "    }\n",
       "\n",
       "    .dataframe thead th {\n",
       "        text-align: right;\n",
       "    }\n",
       "</style>\n",
       "<table border=\"1\" class=\"dataframe\">\n",
       "  <thead>\n",
       "    <tr style=\"text-align: right;\">\n",
       "      <th></th>\n",
       "      <th>highest_income_male</th>\n",
       "    </tr>\n",
       "  </thead>\n",
       "  <tbody>\n",
       "    <tr>\n",
       "      <th>0</th>\n",
       "      <td>99981</td>\n",
       "    </tr>\n",
       "  </tbody>\n",
       "</table>\n",
       "</div>"
      ],
      "text/plain": [
       "   highest_income_male\n",
       "0                99981"
      ]
     },
     "execution_count": 13,
     "metadata": {},
     "output_type": "execute_result"
    }
   ],
   "source": [
    "sql='''\n",
    "SELECT MAX(Income) AS highest_income_male FROM IBM WHERE Gender = 'M';\n",
    "\n",
    "\n",
    "''';\n",
    "\n",
    "    \n",
    "IBM_sql = pd.read_sql_query(sql,con=engine)\n",
    "IBM_sql"
   ]
  },
  {
   "cell_type": "markdown",
   "id": "6eb8b9e2-34e5-4f35-9ea5-472a26a46d27",
   "metadata": {},
   "source": [
    "# Q.6 List the unique education levels and their counts?"
   ]
  },
  {
   "cell_type": "code",
   "execution_count": 14,
   "id": "9943491c-213f-4190-bab8-71abb3a17641",
   "metadata": {},
   "outputs": [
    {
     "data": {
      "text/html": [
       "<div>\n",
       "<style scoped>\n",
       "    .dataframe tbody tr th:only-of-type {\n",
       "        vertical-align: middle;\n",
       "    }\n",
       "\n",
       "    .dataframe tbody tr th {\n",
       "        vertical-align: top;\n",
       "    }\n",
       "\n",
       "    .dataframe thead th {\n",
       "        text-align: right;\n",
       "    }\n",
       "</style>\n",
       "<table border=\"1\" class=\"dataframe\">\n",
       "  <thead>\n",
       "    <tr style=\"text-align: right;\">\n",
       "      <th></th>\n",
       "      <th>Education</th>\n",
       "      <th>count</th>\n",
       "    </tr>\n",
       "  </thead>\n",
       "  <tbody>\n",
       "    <tr>\n",
       "      <th>0</th>\n",
       "      <td>Bachelor</td>\n",
       "      <td>2748</td>\n",
       "    </tr>\n",
       "    <tr>\n",
       "      <th>1</th>\n",
       "      <td>College</td>\n",
       "      <td>2681</td>\n",
       "    </tr>\n",
       "    <tr>\n",
       "      <th>2</th>\n",
       "      <td>Doctor</td>\n",
       "      <td>342</td>\n",
       "    </tr>\n",
       "    <tr>\n",
       "      <th>3</th>\n",
       "      <td>High School or Below</td>\n",
       "      <td>2622</td>\n",
       "    </tr>\n",
       "    <tr>\n",
       "      <th>4</th>\n",
       "      <td>Master</td>\n",
       "      <td>741</td>\n",
       "    </tr>\n",
       "  </tbody>\n",
       "</table>\n",
       "</div>"
      ],
      "text/plain": [
       "              Education  count\n",
       "0              Bachelor   2748\n",
       "1               College   2681\n",
       "2                Doctor    342\n",
       "3  High School or Below   2622\n",
       "4                Master    741"
      ]
     },
     "execution_count": 14,
     "metadata": {},
     "output_type": "execute_result"
    }
   ],
   "source": [
    "sql='''\n",
    "SELECT Education, COUNT(*) AS count FROM IBM GROUP BY Education;\n",
    "\n",
    "\n",
    "''';\n",
    "\n",
    "    \n",
    "IBM_sql = pd.read_sql_query(sql,con=engine)\n",
    "IBM_sql"
   ]
  },
  {
   "cell_type": "markdown",
   "id": "bc83fc64-2be6-4265-a714-a5c01cecacfd",
   "metadata": {},
   "source": [
    "# Q.7 SELECT Education, COUNT(*) AS count FROM dataset_table GROUP BY Education?"
   ]
  },
  {
   "cell_type": "code",
   "execution_count": 15,
   "id": "900b5303-6e47-47f0-841d-e32cacc44c93",
   "metadata": {},
   "outputs": [
    {
     "data": {
      "text/html": [
       "<div>\n",
       "<style scoped>\n",
       "    .dataframe tbody tr th:only-of-type {\n",
       "        vertical-align: middle;\n",
       "    }\n",
       "\n",
       "    .dataframe tbody tr th {\n",
       "        vertical-align: top;\n",
       "    }\n",
       "\n",
       "    .dataframe thead th {\n",
       "        text-align: right;\n",
       "    }\n",
       "</style>\n",
       "<table border=\"1\" class=\"dataframe\">\n",
       "  <thead>\n",
       "    <tr style=\"text-align: right;\">\n",
       "      <th></th>\n",
       "      <th>Response</th>\n",
       "      <th>count</th>\n",
       "    </tr>\n",
       "  </thead>\n",
       "  <tbody>\n",
       "    <tr>\n",
       "      <th>0</th>\n",
       "      <td>No</td>\n",
       "      <td>7826</td>\n",
       "    </tr>\n",
       "  </tbody>\n",
       "</table>\n",
       "</div>"
      ],
      "text/plain": [
       "  Response  count\n",
       "0       No   7826"
      ]
     },
     "execution_count": 15,
     "metadata": {},
     "output_type": "execute_result"
    }
   ],
   "source": [
    "sql='''\n",
    "SELECT Response, COUNT(*) AS count FROM IBM GROUP BY Response ORDER BY count DESC LIMIT 1;\n",
    "\n",
    "\n",
    "''';\n",
    "\n",
    "    \n",
    "IBM_sql = pd.read_sql_query(sql,con=engine)\n",
    "IBM_sql"
   ]
  },
  {
   "cell_type": "markdown",
   "id": "0a98cec8-53eb-4d9e-857e-187d13cbeeec",
   "metadata": {},
   "source": [
    "# Q.8 Calculate the average income by gender"
   ]
  },
  {
   "cell_type": "code",
   "execution_count": 16,
   "id": "bca84023-3ffd-4488-bdc9-ee600739b4c0",
   "metadata": {},
   "outputs": [
    {
     "data": {
      "text/html": [
       "<div>\n",
       "<style scoped>\n",
       "    .dataframe tbody tr th:only-of-type {\n",
       "        vertical-align: middle;\n",
       "    }\n",
       "\n",
       "    .dataframe tbody tr th {\n",
       "        vertical-align: top;\n",
       "    }\n",
       "\n",
       "    .dataframe thead th {\n",
       "        text-align: right;\n",
       "    }\n",
       "</style>\n",
       "<table border=\"1\" class=\"dataframe\">\n",
       "  <thead>\n",
       "    <tr style=\"text-align: right;\">\n",
       "      <th></th>\n",
       "      <th>Gender</th>\n",
       "      <th>avg_income</th>\n",
       "    </tr>\n",
       "  </thead>\n",
       "  <tbody>\n",
       "    <tr>\n",
       "      <th>0</th>\n",
       "      <td>F</td>\n",
       "      <td>38108.176471</td>\n",
       "    </tr>\n",
       "    <tr>\n",
       "      <th>1</th>\n",
       "      <td>M</td>\n",
       "      <td>37188.253575</td>\n",
       "    </tr>\n",
       "  </tbody>\n",
       "</table>\n",
       "</div>"
      ],
      "text/plain": [
       "  Gender    avg_income\n",
       "0      F  38108.176471\n",
       "1      M  37188.253575"
      ]
     },
     "execution_count": 16,
     "metadata": {},
     "output_type": "execute_result"
    }
   ],
   "source": [
    "sql='''\n",
    "SELECT Gender, AVG(Income) AS avg_income FROM IBM GROUP BY Gender;\n",
    "\n",
    "''';\n",
    "\n",
    "    \n",
    "IBM_sql = pd.read_sql_query(sql,con=engine)\n",
    "IBM_sql"
   ]
  },
  {
   "cell_type": "markdown",
   "id": "345693b7-0228-46f3-8fbe-14fab50f5e04",
   "metadata": {},
   "source": [
    "# Q.9 Find the median customer lifetime value (CLV)?"
   ]
  },
  {
   "cell_type": "code",
   "execution_count": 18,
   "id": "2248b0c2-a125-44f6-8533-7341989c8010",
   "metadata": {},
   "outputs": [
    {
     "data": {
      "text/html": [
       "<div>\n",
       "<style scoped>\n",
       "    .dataframe tbody tr th:only-of-type {\n",
       "        vertical-align: middle;\n",
       "    }\n",
       "\n",
       "    .dataframe tbody tr th {\n",
       "        vertical-align: top;\n",
       "    }\n",
       "\n",
       "    .dataframe thead th {\n",
       "        text-align: right;\n",
       "    }\n",
       "</style>\n",
       "<table border=\"1\" class=\"dataframe\">\n",
       "  <thead>\n",
       "    <tr style=\"text-align: right;\">\n",
       "      <th></th>\n",
       "      <th>Customer Lifetime Value</th>\n",
       "    </tr>\n",
       "  </thead>\n",
       "  <tbody>\n",
       "    <tr>\n",
       "      <th>0</th>\n",
       "      <td>5780.182197</td>\n",
       "    </tr>\n",
       "  </tbody>\n",
       "</table>\n",
       "</div>"
      ],
      "text/plain": [
       "   Customer Lifetime Value\n",
       "0              5780.182197"
      ]
     },
     "execution_count": 18,
     "metadata": {},
     "output_type": "execute_result"
    }
   ],
   "source": [
    "sql='''\n",
    "SELECT `Customer Lifetime Value` \n",
    "FROM IBM \n",
    "ORDER BY `Customer Lifetime Value` \n",
    "LIMIT 1 \n",
    "OFFSET (SELECT COUNT(*)/2 FROM IBM);\n",
    "\n",
    "''';\n",
    "\n",
    "    \n",
    "IBM_sql = pd.read_sql_query(sql,con=engine)\n",
    "IBM_sql"
   ]
  },
  {
   "cell_type": "markdown",
   "id": "950b3ea5-bfb2-4989-86aa-6ab2d6f688c3",
   "metadata": {},
   "source": [
    "# Q.10 Identify the top 5 states with the highest total income?"
   ]
  },
  {
   "cell_type": "code",
   "execution_count": 19,
   "id": "2f33023c-c508-4cc0-a6d6-5a19c586cd82",
   "metadata": {},
   "outputs": [
    {
     "data": {
      "text/html": [
       "<div>\n",
       "<style scoped>\n",
       "    .dataframe tbody tr th:only-of-type {\n",
       "        vertical-align: middle;\n",
       "    }\n",
       "\n",
       "    .dataframe tbody tr th {\n",
       "        vertical-align: top;\n",
       "    }\n",
       "\n",
       "    .dataframe thead th {\n",
       "        text-align: right;\n",
       "    }\n",
       "</style>\n",
       "<table border=\"1\" class=\"dataframe\">\n",
       "  <thead>\n",
       "    <tr style=\"text-align: right;\">\n",
       "      <th></th>\n",
       "      <th>State</th>\n",
       "      <th>total_income</th>\n",
       "    </tr>\n",
       "  </thead>\n",
       "  <tbody>\n",
       "    <tr>\n",
       "      <th>0</th>\n",
       "      <td>California</td>\n",
       "      <td>118310682</td>\n",
       "    </tr>\n",
       "    <tr>\n",
       "      <th>1</th>\n",
       "      <td>Oregon</td>\n",
       "      <td>97686494</td>\n",
       "    </tr>\n",
       "    <tr>\n",
       "      <th>2</th>\n",
       "      <td>Arizona</td>\n",
       "      <td>63701400</td>\n",
       "    </tr>\n",
       "    <tr>\n",
       "      <th>3</th>\n",
       "      <td>Nevada</td>\n",
       "      <td>33841992</td>\n",
       "    </tr>\n",
       "    <tr>\n",
       "      <th>4</th>\n",
       "      <td>Washington</td>\n",
       "      <td>30421941</td>\n",
       "    </tr>\n",
       "  </tbody>\n",
       "</table>\n",
       "</div>"
      ],
      "text/plain": [
       "        State  total_income\n",
       "0  California     118310682\n",
       "1      Oregon      97686494\n",
       "2     Arizona      63701400\n",
       "3      Nevada      33841992\n",
       "4  Washington      30421941"
      ]
     },
     "execution_count": 19,
     "metadata": {},
     "output_type": "execute_result"
    }
   ],
   "source": [
    "sql='''\n",
    "SELECT State, SUM(Income) AS total_income FROM IBM GROUP BY State ORDER BY total_income DESC LIMIT 5;\n",
    "\n",
    "\n",
    "''';\n",
    "\n",
    "    \n",
    "IBM_sql = pd.read_sql_query(sql,con=engine)\n",
    "IBM_sql"
   ]
  },
  {
   "cell_type": "markdown",
   "id": "75d3cf3a-1cdb-4bc0-9df9-61eae7586788",
   "metadata": {},
   "source": [
    "# Q.11 Count the number of employed and unemployed customers?"
   ]
  },
  {
   "cell_type": "code",
   "execution_count": 20,
   "id": "bc7dd804-a59d-4d43-b505-294f39105ab1",
   "metadata": {},
   "outputs": [
    {
     "data": {
      "text/html": [
       "<div>\n",
       "<style scoped>\n",
       "    .dataframe tbody tr th:only-of-type {\n",
       "        vertical-align: middle;\n",
       "    }\n",
       "\n",
       "    .dataframe tbody tr th {\n",
       "        vertical-align: top;\n",
       "    }\n",
       "\n",
       "    .dataframe thead th {\n",
       "        text-align: right;\n",
       "    }\n",
       "</style>\n",
       "<table border=\"1\" class=\"dataframe\">\n",
       "  <thead>\n",
       "    <tr style=\"text-align: right;\">\n",
       "      <th></th>\n",
       "      <th>EmploymentStatus</th>\n",
       "      <th>count</th>\n",
       "    </tr>\n",
       "  </thead>\n",
       "  <tbody>\n",
       "    <tr>\n",
       "      <th>0</th>\n",
       "      <td>Disabled</td>\n",
       "      <td>405</td>\n",
       "    </tr>\n",
       "    <tr>\n",
       "      <th>1</th>\n",
       "      <td>Employed</td>\n",
       "      <td>5698</td>\n",
       "    </tr>\n",
       "    <tr>\n",
       "      <th>2</th>\n",
       "      <td>Medical Leave</td>\n",
       "      <td>432</td>\n",
       "    </tr>\n",
       "    <tr>\n",
       "      <th>3</th>\n",
       "      <td>Retired</td>\n",
       "      <td>282</td>\n",
       "    </tr>\n",
       "    <tr>\n",
       "      <th>4</th>\n",
       "      <td>Unemployed</td>\n",
       "      <td>2317</td>\n",
       "    </tr>\n",
       "  </tbody>\n",
       "</table>\n",
       "</div>"
      ],
      "text/plain": [
       "  EmploymentStatus  count\n",
       "0         Disabled    405\n",
       "1         Employed   5698\n",
       "2    Medical Leave    432\n",
       "3          Retired    282\n",
       "4       Unemployed   2317"
      ]
     },
     "execution_count": 20,
     "metadata": {},
     "output_type": "execute_result"
    }
   ],
   "source": [
    "sql='''\n",
    "SELECT EmploymentStatus, COUNT(*) AS count FROM IBM GROUP BY EmploymentStatus;\n",
    "\n",
    "''';\n",
    "\n",
    "    \n",
    "IBM_sql = pd.read_sql_query(sql,con=engine)\n",
    "IBM_sql"
   ]
  },
  {
   "cell_type": "markdown",
   "id": "b688a2e4-bc4f-48f8-81a4-9fa7f4e014ca",
   "metadata": {},
   "source": [
    "# Q.12 Calculate the average claim amount by policy type"
   ]
  },
  {
   "cell_type": "code",
   "execution_count": 22,
   "id": "aebfaafe-4145-4f23-8626-f52f7a1cf6c6",
   "metadata": {},
   "outputs": [
    {
     "data": {
      "text/html": [
       "<div>\n",
       "<style scoped>\n",
       "    .dataframe tbody tr th:only-of-type {\n",
       "        vertical-align: middle;\n",
       "    }\n",
       "\n",
       "    .dataframe tbody tr th {\n",
       "        vertical-align: top;\n",
       "    }\n",
       "\n",
       "    .dataframe thead th {\n",
       "        text-align: right;\n",
       "    }\n",
       "</style>\n",
       "<table border=\"1\" class=\"dataframe\">\n",
       "  <thead>\n",
       "    <tr style=\"text-align: right;\">\n",
       "      <th></th>\n",
       "      <th>Policy</th>\n",
       "      <th>avg_claim_amount</th>\n",
       "    </tr>\n",
       "  </thead>\n",
       "  <tbody>\n",
       "    <tr>\n",
       "      <th>0</th>\n",
       "      <td>Corporate L1</td>\n",
       "      <td>437.787660</td>\n",
       "    </tr>\n",
       "    <tr>\n",
       "      <th>1</th>\n",
       "      <td>Corporate L2</td>\n",
       "      <td>439.183340</td>\n",
       "    </tr>\n",
       "    <tr>\n",
       "      <th>2</th>\n",
       "      <td>Corporate L3</td>\n",
       "      <td>422.460088</td>\n",
       "    </tr>\n",
       "    <tr>\n",
       "      <th>3</th>\n",
       "      <td>Personal L1</td>\n",
       "      <td>441.062637</td>\n",
       "    </tr>\n",
       "    <tr>\n",
       "      <th>4</th>\n",
       "      <td>Personal L2</td>\n",
       "      <td>433.757310</td>\n",
       "    </tr>\n",
       "    <tr>\n",
       "      <th>5</th>\n",
       "      <td>Personal L3</td>\n",
       "      <td>433.235047</td>\n",
       "    </tr>\n",
       "    <tr>\n",
       "      <th>6</th>\n",
       "      <td>Special L1</td>\n",
       "      <td>463.236864</td>\n",
       "    </tr>\n",
       "    <tr>\n",
       "      <th>7</th>\n",
       "      <td>Special L2</td>\n",
       "      <td>432.603295</td>\n",
       "    </tr>\n",
       "    <tr>\n",
       "      <th>8</th>\n",
       "      <td>Special L3</td>\n",
       "      <td>439.041442</td>\n",
       "    </tr>\n",
       "  </tbody>\n",
       "</table>\n",
       "</div>"
      ],
      "text/plain": [
       "         Policy  avg_claim_amount\n",
       "0  Corporate L1        437.787660\n",
       "1  Corporate L2        439.183340\n",
       "2  Corporate L3        422.460088\n",
       "3   Personal L1        441.062637\n",
       "4   Personal L2        433.757310\n",
       "5   Personal L3        433.235047\n",
       "6    Special L1        463.236864\n",
       "7    Special L2        432.603295\n",
       "8    Special L3        439.041442"
      ]
     },
     "execution_count": 22,
     "metadata": {},
     "output_type": "execute_result"
    }
   ],
   "source": [
    "sql='''\n",
    "SELECT Policy, AVG(`Total Claim Amount`) AS avg_claim_amount FROM IBM GROUP BY Policy;\n",
    "\n",
    "\n",
    "''';\n",
    "\n",
    "    \n",
    "IBM_sql = pd.read_sql_query(sql,con=engine)\n",
    "IBM_sql"
   ]
  },
  {
   "cell_type": "markdown",
   "id": "81fda704-b298-4ca2-a218-46258ce2e9b8",
   "metadata": {},
   "source": [
    "# Q.13 Find the most common vehicle class?"
   ]
  },
  {
   "cell_type": "code",
   "execution_count": 24,
   "id": "0c7d7b5a-b4ff-4971-9d1a-31799826ae92",
   "metadata": {},
   "outputs": [
    {
     "data": {
      "text/html": [
       "<div>\n",
       "<style scoped>\n",
       "    .dataframe tbody tr th:only-of-type {\n",
       "        vertical-align: middle;\n",
       "    }\n",
       "\n",
       "    .dataframe tbody tr th {\n",
       "        vertical-align: top;\n",
       "    }\n",
       "\n",
       "    .dataframe thead th {\n",
       "        text-align: right;\n",
       "    }\n",
       "</style>\n",
       "<table border=\"1\" class=\"dataframe\">\n",
       "  <thead>\n",
       "    <tr style=\"text-align: right;\">\n",
       "      <th></th>\n",
       "      <th>Vehicle Class</th>\n",
       "      <th>count</th>\n",
       "    </tr>\n",
       "  </thead>\n",
       "  <tbody>\n",
       "    <tr>\n",
       "      <th>0</th>\n",
       "      <td>Four-Door Car</td>\n",
       "      <td>4621</td>\n",
       "    </tr>\n",
       "  </tbody>\n",
       "</table>\n",
       "</div>"
      ],
      "text/plain": [
       "   Vehicle Class  count\n",
       "0  Four-Door Car   4621"
      ]
     },
     "execution_count": 24,
     "metadata": {},
     "output_type": "execute_result"
    }
   ],
   "source": [
    "sql='''\n",
    "SELECT `Vehicle Class`, COUNT(*) AS count FROM IBM GROUP BY `Vehicle Class` ORDER BY count DESC LIMIT 1;\n",
    "\n",
    "''';\n",
    "\n",
    "    \n",
    "IBM_sql = pd.read_sql_query(sql,con=engine)\n",
    "IBM_sql"
   ]
  },
  {
   "cell_type": "markdown",
   "id": "4b1c7103-10c6-4af9-98a5-9f86e2d9b792",
   "metadata": {},
   "source": [
    "# Q.14 List the renewal offer types and their average claim amounts?"
   ]
  },
  {
   "cell_type": "code",
   "execution_count": 25,
   "id": "6c9c3110-d4e6-4e87-b2cf-79d7a2692061",
   "metadata": {},
   "outputs": [
    {
     "data": {
      "text/html": [
       "<div>\n",
       "<style scoped>\n",
       "    .dataframe tbody tr th:only-of-type {\n",
       "        vertical-align: middle;\n",
       "    }\n",
       "\n",
       "    .dataframe tbody tr th {\n",
       "        vertical-align: top;\n",
       "    }\n",
       "\n",
       "    .dataframe thead th {\n",
       "        text-align: right;\n",
       "    }\n",
       "</style>\n",
       "<table border=\"1\" class=\"dataframe\">\n",
       "  <thead>\n",
       "    <tr style=\"text-align: right;\">\n",
       "      <th></th>\n",
       "      <th>Renew Offer Type</th>\n",
       "      <th>avg_claim_amount</th>\n",
       "    </tr>\n",
       "  </thead>\n",
       "  <tbody>\n",
       "    <tr>\n",
       "      <th>0</th>\n",
       "      <td>Offer1</td>\n",
       "      <td>469.165640</td>\n",
       "    </tr>\n",
       "    <tr>\n",
       "      <th>1</th>\n",
       "      <td>Offer2</td>\n",
       "      <td>408.778268</td>\n",
       "    </tr>\n",
       "    <tr>\n",
       "      <th>2</th>\n",
       "      <td>Offer3</td>\n",
       "      <td>423.391734</td>\n",
       "    </tr>\n",
       "    <tr>\n",
       "      <th>3</th>\n",
       "      <td>Offer4</td>\n",
       "      <td>392.847065</td>\n",
       "    </tr>\n",
       "  </tbody>\n",
       "</table>\n",
       "</div>"
      ],
      "text/plain": [
       "  Renew Offer Type  avg_claim_amount\n",
       "0           Offer1        469.165640\n",
       "1           Offer2        408.778268\n",
       "2           Offer3        423.391734\n",
       "3           Offer4        392.847065"
      ]
     },
     "execution_count": 25,
     "metadata": {},
     "output_type": "execute_result"
    }
   ],
   "source": [
    "sql='''\n",
    "SELECT `Renew Offer Type`, AVG(`Total Claim Amount`) AS avg_claim_amount FROM IBM GROUP BY `Renew Offer Type`;\n",
    "\n",
    "''';\n",
    "\n",
    "    \n",
    "IBM_sql = pd.read_sql_query(sql,con=engine)\n",
    "IBM_sql"
   ]
  },
  {
   "cell_type": "markdown",
   "id": "647c5117-693c-4f56-a818-b6a39d30a18f",
   "metadata": {},
   "source": [
    "# Q.15 Identify the average income of customers with and without complaints?"
   ]
  },
  {
   "cell_type": "code",
   "execution_count": 27,
   "id": "7ec4f24e-a846-42c5-b259-1c82285aa632",
   "metadata": {},
   "outputs": [
    {
     "data": {
      "text/html": [
       "<div>\n",
       "<style scoped>\n",
       "    .dataframe tbody tr th:only-of-type {\n",
       "        vertical-align: middle;\n",
       "    }\n",
       "\n",
       "    .dataframe tbody tr th {\n",
       "        vertical-align: top;\n",
       "    }\n",
       "\n",
       "    .dataframe thead th {\n",
       "        text-align: right;\n",
       "    }\n",
       "</style>\n",
       "<table border=\"1\" class=\"dataframe\">\n",
       "  <thead>\n",
       "    <tr style=\"text-align: right;\">\n",
       "      <th></th>\n",
       "      <th>complaint_status</th>\n",
       "      <th>avg_income</th>\n",
       "    </tr>\n",
       "  </thead>\n",
       "  <tbody>\n",
       "    <tr>\n",
       "      <th>0</th>\n",
       "      <td>No Complaints</td>\n",
       "      <td>37575.857694</td>\n",
       "    </tr>\n",
       "    <tr>\n",
       "      <th>1</th>\n",
       "      <td>With Complaints</td>\n",
       "      <td>37971.513815</td>\n",
       "    </tr>\n",
       "  </tbody>\n",
       "</table>\n",
       "</div>"
      ],
      "text/plain": [
       "  complaint_status    avg_income\n",
       "0    No Complaints  37575.857694\n",
       "1  With Complaints  37971.513815"
      ]
     },
     "execution_count": 27,
     "metadata": {},
     "output_type": "execute_result"
    }
   ],
   "source": [
    "sql='''\n",
    "SELECT \n",
    "    CASE \n",
    "        WHEN `Number of Open Complaints` > 0 THEN 'With Complaints' \n",
    "        ELSE 'No Complaints' \n",
    "    END AS complaint_status,\n",
    "    AVG(Income) AS avg_income \n",
    "FROM \n",
    "    IBM\n",
    "GROUP BY \n",
    "    complaint_status;\n",
    "\n",
    "\n",
    "''';\n",
    "\n",
    "    \n",
    "IBM_sql = pd.read_sql_query(sql,con=engine)\n",
    "IBM_sql"
   ]
  },
  {
   "cell_type": "code",
   "execution_count": null,
   "id": "984d3776-7bf7-4f6c-aed3-05180a43424c",
   "metadata": {},
   "outputs": [],
   "source": []
  }
 ],
 "metadata": {
  "kernelspec": {
   "display_name": "Python 3 (ipykernel)",
   "language": "python",
   "name": "python3"
  },
  "language_info": {
   "codemirror_mode": {
    "name": "ipython",
    "version": 3
   },
   "file_extension": ".py",
   "mimetype": "text/x-python",
   "name": "python",
   "nbconvert_exporter": "python",
   "pygments_lexer": "ipython3",
   "version": "3.12.2"
  }
 },
 "nbformat": 4,
 "nbformat_minor": 5
}
